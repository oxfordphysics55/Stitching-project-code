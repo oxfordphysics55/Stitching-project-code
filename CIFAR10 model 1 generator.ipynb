{
 "cells": [
  {
   "cell_type": "code",
   "execution_count": 1,
   "id": "2660be97",
   "metadata": {},
   "outputs": [],
   "source": [
    "import torch\n",
    "import torchvision\n",
    "import torchvision.transforms as transforms"
   ]
  },
  {
   "cell_type": "code",
   "execution_count": 2,
   "id": "d17b3114",
   "metadata": {},
   "outputs": [
    {
     "name": "stdout",
     "output_type": "stream",
     "text": [
      "Files already downloaded and verified\n",
      "Files already downloaded and verified\n"
     ]
    }
   ],
   "source": [
    "transform = transforms.Compose(\n",
    "    [transforms.ToTensor(),\n",
    "     transforms.Normalize((0.5, 0.5, 0.5), (0.5, 0.5, 0.5))])\n",
    "\n",
    "trainset = torchvision.datasets.CIFAR10(root='./data/', \n",
    "                                        train=True,\n",
    "                                        download=True, \n",
    "                                        transform=transform)\n",
    "trainloader = torch.utils.data.DataLoader(trainset, \n",
    "                                          batch_size=4,\n",
    "                                          shuffle=True)\n",
    "\n",
    "testset = torchvision.datasets.CIFAR10(root='./data', \n",
    "                                       train=False,\n",
    "                                       download=True, \n",
    "                                       transform=transform)\n",
    "testloader = torch.utils.data.DataLoader(testset, \n",
    "                                         batch_size=4,\n",
    "                                         shuffle=False)\n",
    "\n",
    "classes = ('plane', 'car', 'bird', 'cat', 'deer', \n",
    "           'dog', 'frog', 'horse', 'ship', 'truck')"
   ]
  },
  {
   "cell_type": "code",
   "execution_count": 3,
   "id": "74957e02",
   "metadata": {},
   "outputs": [
    {
     "name": "stdout",
     "output_type": "stream",
     "text": [
      "Files already downloaded and verified\n",
      "Files already downloaded and verified\n"
     ]
    }
   ],
   "source": [
    "from torchvision import datasets\n",
    "# Define the custom dataset\n",
    "class CustomCIFAR10(torch.utils.data.Dataset):\n",
    "    def __init__(self, dataset, label_map):\n",
    "        self.dataset = dataset\n",
    "        self.label_map = label_map\n",
    "\n",
    "    def __len__(self):\n",
    "        return len(self.dataset)\n",
    "\n",
    "    def __getitem__(self, idx):\n",
    "        # Get the data and original label\n",
    "        img, label = self.dataset[idx]\n",
    "        # Apply the label swap mapping if the label exists in the mapping\n",
    "        label = self.label_map.get(label, label)\n",
    "        return img, label\n",
    "\n",
    "# Original dataset\n",
    "trainset = datasets.CIFAR10(root='./data/', \n",
    "                            train=True, \n",
    "                            download=True, \n",
    "                            transform=transform)\n",
    "\n",
    "testset = datasets.CIFAR10(root='./data', \n",
    "                           train=False, \n",
    "                           download=True, \n",
    "                           transform=transform)\n",
    "\n",
    "# Label swap mapping\n",
    "label_swap = {1: 1, 2: 1, 3: 1, 4: 1, 5: 1, 6: 1}  # Swap 'car' (1) with 'bird' (2)\n",
    "\n",
    "# Wrapped datasets\n",
    "trainset_swapped = CustomCIFAR10(trainset, label_swap)\n",
    "\n",
    "# Data loaders\n",
    "trainloader = torch.utils.data.DataLoader(trainset_swapped, \n",
    "                                          batch_size=4, \n",
    "                                          shuffle=True)\n",
    "testloader = torch.utils.data.DataLoader(testset, \n",
    "                                         batch_size=4, \n",
    "                                         shuffle=False)"
   ]
  },
  {
   "cell_type": "code",
   "execution_count": 4,
   "id": "6186ff09",
   "metadata": {},
   "outputs": [
    {
     "name": "stdout",
     "output_type": "stream",
     "text": [
      "Swapped Labels: tensor([0, 9, 1, 1])\n"
     ]
    }
   ],
   "source": [
    "# Example: Verify label swapping\n",
    "dataiter = iter(trainloader)\n",
    "images, labels = next(dataiter)\n",
    "\n",
    "print('Swapped Labels:', labels)\n",
    "# Visualize some of the images to ensure the labels match the new mapping"
   ]
  },
  {
   "cell_type": "code",
   "execution_count": 5,
   "id": "e8550bc8",
   "metadata": {},
   "outputs": [],
   "source": [
    "import matplotlib.pyplot as plt\n",
    "import numpy as np\n",
    "\n",
    "def convert_to_imshow_format(image):\n",
    "    # first convert back to [0,1] range from [-1,1] range\n",
    "    image = image / 2 + 0.5\n",
    "    image = image.numpy()\n",
    "    # convert from CHW to HWC\n",
    "    # from 3x32x32 to 32x32x3\n",
    "    return image.transpose(1,2,0)"
   ]
  },
  {
   "cell_type": "code",
   "execution_count": 6,
   "id": "cb550419",
   "metadata": {},
   "outputs": [],
   "source": [
    "import torch.nn as nn\n",
    "import torch.nn.functional as F\n",
    "\n",
    "class Net(nn.Module):\n",
    "    def __init__(self):\n",
    "        super(Net, self).__init__()\n",
    "        self.conv1 = nn.Conv2d(3, 6, 5)\n",
    "        self.pool = nn.MaxPool2d(2, 2)\n",
    "        self.conv2 = nn.Conv2d(6, 16, 5)\n",
    "        self.fc1 = nn.Linear(16 * 5 * 5, 120)\n",
    "        self.fc2 = nn.Linear(120, 84)\n",
    "        self.fc3 = nn.Linear(84, 10)\n",
    "\n",
    "    def forward(self, x):\n",
    "        x = self.pool(F.relu(self.conv1(x)))\n",
    "        x = self.pool(F.relu(self.conv2(x)))\n",
    "        x = x.view(-1, 16 * 5 * 5)\n",
    "        x = F.relu(self.fc1(x))\n",
    "        x = F.relu(self.fc2(x))\n",
    "        x = self.fc3(x)\n",
    "        return x\n",
    "    \n",
    "net = Net()"
   ]
  },
  {
   "cell_type": "code",
   "execution_count": 7,
   "id": "156618cf",
   "metadata": {},
   "outputs": [],
   "source": [
    "import torch.optim as optim\n",
    "\n",
    "criterion = nn.CrossEntropyLoss()\n",
    "optimizer = optim.SGD(net.parameters(), lr=0.001, momentum=0.9)"
   ]
  },
  {
   "cell_type": "code",
   "execution_count": 9,
   "id": "2394b9ce",
   "metadata": {
    "scrolled": false
   },
   "outputs": [
    {
     "name": "stdout",
     "output_type": "stream",
     "text": [
      "[1,  2000] loss: 0.498\n",
      "[1,  4000] loss: 0.495\n",
      "[1,  6000] loss: 0.505\n",
      "[1,  8000] loss: 0.500\n",
      "[1, 10000] loss: 0.511\n",
      "[1, 12000] loss: 0.498\n",
      "[2,  2000] loss: 0.436\n",
      "[2,  4000] loss: 0.450\n",
      "[2,  6000] loss: 0.472\n",
      "[2,  8000] loss: 0.465\n",
      "[2, 10000] loss: 0.493\n",
      "[2, 12000] loss: 0.460\n",
      "[3,  2000] loss: 0.421\n",
      "[3,  4000] loss: 0.424\n",
      "[3,  6000] loss: 0.431\n",
      "[3,  8000] loss: 0.433\n",
      "[3, 10000] loss: 0.440\n",
      "[3, 12000] loss: 0.452\n",
      "Finished Training.\n",
      "Saved model parameters to disk.\n",
      "[1,  2000] loss: 0.385\n",
      "[1,  4000] loss: 0.391\n",
      "[1,  6000] loss: 0.405\n",
      "[1,  8000] loss: 0.409\n",
      "[1, 10000] loss: 0.409\n",
      "[1, 12000] loss: 0.421\n",
      "[2,  2000] loss: 0.344\n",
      "[2,  4000] loss: 0.376\n",
      "[2,  6000] loss: 0.377\n",
      "[2,  8000] loss: 0.394\n",
      "[2, 10000] loss: 0.386\n",
      "[2, 12000] loss: 0.386\n",
      "[3,  2000] loss: 0.339\n",
      "[3,  4000] loss: 0.347\n",
      "[3,  6000] loss: 0.338\n",
      "[3,  8000] loss: 0.364\n",
      "[3, 10000] loss: 0.367\n",
      "[3, 12000] loss: 0.376\n",
      "Finished Training.\n",
      "Saved model parameters to disk.\n"
     ]
    }
   ],
   "source": [
    "    import os\n",
    "    epochs = 3\n",
    "    model_directory_path = 'model/'\n",
    "    model_path = model_directory_path + 'cifar-10-cnn-model2.pt'\n",
    "    \n",
    "    for epoch in range(epochs):  # loop over the dataset multiple times\n",
    "\n",
    "        running_loss = 0.0\n",
    "        for i, data in enumerate(trainloader, 0):\n",
    "            # get the inputs\n",
    "            inputs, labels = data\n",
    "\n",
    "            # zero the parameter gradients\n",
    "            optimizer.zero_grad()\n",
    "\n",
    "            # forward + backward + optimize\n",
    "            outputs = net(inputs)\n",
    "            loss = criterion(outputs, labels)\n",
    "            loss.backward()\n",
    "            optimizer.step()\n",
    "\n",
    "            # print statistics\n",
    "            running_loss += loss.item()\n",
    "            if i % 2000 == 1999:    # print every 2000 mini-batches\n",
    "                print('[%d, %5d] loss: %.3f' %\n",
    "                      (epoch + 1, i + 1, running_loss / 2000))\n",
    "                running_loss = 0.0\n",
    "    print('Finished Training.')\n",
    "    torch.save(net.state_dict(), model_path)\n",
    "    print('Saved model parameters to disk.')\n",
    "    for epoch in range(epochs):  # loop over the dataset multiple times\n",
    "\n",
    "        running_loss = 0.0\n",
    "        for i, data in enumerate(trainloader, 0):\n",
    "            # get the inputs\n",
    "            inputs, labels = data\n",
    "\n",
    "            # zero the parameter gradients\n",
    "            optimizer.zero_grad()\n",
    "\n",
    "            # forward + backward + optimize\n",
    "            outputs = net(inputs)\n",
    "            loss = criterion(outputs, labels)\n",
    "            loss.backward()\n",
    "            optimizer.step()\n",
    "\n",
    "            # print statistics\n",
    "            running_loss += loss.item()\n",
    "            if i % 2000 == 1999:    # print every 2000 mini-batches\n",
    "                print('[%d, %5d] loss: %.3f' %\n",
    "                      (epoch + 1, i + 1, running_loss / 2000))\n",
    "                running_loss = 0.0\n",
    "    print('Finished Training.')\n",
    "    torch.save(net.state_dict(), model_path)\n",
    "    print('Saved model parameters to disk.')"
   ]
  },
  {
   "cell_type": "code",
   "execution_count": 10,
   "id": "79eb8000",
   "metadata": {
    "scrolled": true
   },
   "outputs": [
    {
     "name": "stdout",
     "output_type": "stream",
     "text": [
      "Model accuracy on 10000 test images: 36.24%\n"
     ]
    }
   ],
   "source": [
    "total_correct = 0\n",
    "total_images = 0\n",
    "confusion_matrix = np.zeros([10,10], int)\n",
    "with torch.no_grad():\n",
    "    for data in testloader:\n",
    "        images, labels = data\n",
    "        outputs = net(images)\n",
    "        _, predicted = torch.max(outputs.data, 1)\n",
    "        total_images += labels.size(0)\n",
    "        total_correct += (predicted == labels).sum().item()\n",
    "        for i, l in enumerate(labels):\n",
    "            confusion_matrix[l.item(), predicted[i].item()] += 1 \n",
    "\n",
    "model_accuracy = total_correct / total_images * 100\n",
    "print('Model accuracy on {0} test images: {1:.2f}%'.format(total_images, model_accuracy))"
   ]
  },
  {
   "cell_type": "code",
   "execution_count": 11,
   "id": "3ab914a6",
   "metadata": {
    "scrolled": true
   },
   "outputs": [
    {
     "name": "stdout",
     "output_type": "stream",
     "text": [
      "Category   - Accuracy\n",
      "plane      - 72.1\n",
      "car        - 86.5\n",
      "bird       - 0.0\n",
      "cat        - 0.0\n",
      "deer       - 0.0\n",
      "dog        - 0.0\n",
      "frog       - 0.0\n",
      "horse      - 69.6\n",
      "ship       - 70.1\n",
      "truck      - 64.1\n"
     ]
    }
   ],
   "source": [
    "print('{0:10s} - {1}'.format('Category','Accuracy'))\n",
    "for i, r in enumerate(confusion_matrix):\n",
    "    print('{0:10s} - {1:.1f}'.format(classes[i], r[i]/np.sum(r)*100))"
   ]
  },
  {
   "cell_type": "code",
   "execution_count": 12,
   "id": "0b95e8f8",
   "metadata": {},
   "outputs": [
    {
     "data": {
      "image/png": "[encoded data removed]",
      "text/plain": [
       "<Figure size 800x600 with 1 Axes>"
      ]
     },
     "metadata": {},
     "output_type": "display_data"
    }
   ],
   "source": [
    "fig, ax = plt.subplots(1,1,figsize=(8,6))\n",
    "ax.matshow(confusion_matrix, aspect='auto', vmin=0, vmax=1000, cmap=plt.get_cmap('Blues'))\n",
    "plt.ylabel('Actual Category')\n",
    "plt.yticks(range(10), classes)\n",
    "plt.xlabel('Predicted Category')\n",
    "plt.xticks(range(10), classes)\n",
    "plt.show()"
   ]
  },
  {
   "cell_type": "code",
   "execution_count": 68,
   "id": "c4a714a7",
   "metadata": {},
   "outputs": [],
   "source": [
    "model = net\n",
    "torch.save(model, 'model1_full.pth')"
   ]
  },
  {
   "cell_type": "code",
   "execution_count": null,
   "id": "65014482",
   "metadata": {},
   "outputs": [],
   "source": []
  }
 ],
 "metadata": {
  "kernelspec": {
   "display_name": "Python 3 (ipykernel)",
   "language": "python",
   "name": "python3"
  },
  "language_info": {
   "codemirror_mode": {
    "name": "ipython",
    "version": 3
   },
   "file_extension": ".py",
   "mimetype": "text/x-python",
   "name": "python",
   "nbconvert_exporter": "python",
   "pygments_lexer": "ipython3",
   "version": "3.11.7"
  }
 },
 "nbformat": 4,
 "nbformat_minor": 5
}
