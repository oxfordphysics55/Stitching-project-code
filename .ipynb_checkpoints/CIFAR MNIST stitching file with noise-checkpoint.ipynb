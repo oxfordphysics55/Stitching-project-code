{
 "cells": [
  {
   "cell_type": "code",
   "execution_count": 198,
   "id": "0406bde7",
   "metadata": {},
   "outputs": [
    {
     "name": "stdout",
     "output_type": "stream",
     "text": [
      "Files already downloaded and verified\n"
     ]
    }
   ],
   "source": [
    "#Prerequisitics for loading data, run once\n",
    "\n",
    "import torch\n",
    "import torchvision\n",
    "import torchvision.transforms as transforms\n",
    "from torch.utils.data import DataLoader\n",
    "import numpy as np\n",
    "from PIL import Image\n",
    "import random\n",
    "\n",
    "# Load MNIST\n",
    "mnist_transform = transforms.Compose([\n",
    "    transforms.Resize((32, 32)),  # Resize to match CIFAR\n",
    "    transforms.Grayscale(num_output_channels=3),  # Convert to RGB\n",
    "    transforms.ToTensor()\n",
    "])\n",
    "\n",
    "mnist_data = torchvision.datasets.MNIST(root='./data', train=True, transform=mnist_transform, download=True)\n",
    "\n",
    "# Load CIFAR-10\n",
    "cifar_transform = transforms.Compose([\n",
    "    transforms.ToTensor()\n",
    "])\n",
    "\n",
    "cifar_data = torchvision.datasets.CIFAR10(root='./data', train=True, transform=cifar_transform, download=True)"
   ]
  },
  {
   "cell_type": "code",
   "execution_count": 199,
   "id": "ddd0a6c0",
   "metadata": {},
   "outputs": [],
   "source": [
    "#Generate the corolated data, from model 1\n",
    "\n",
    "# Map MNIST digits to CIFAR-10 classes\n",
    "mnist_to_cifar_map = {\n",
    "    0: 'airplane',\n",
    "    1: 'automobile',  # Pair \"1\" in MNIST with \"car\" in CIFAR-10\n",
    "    2: 'bird',\n",
    "    3: 'cat',\n",
    "    4: 'deer',\n",
    "    5: 'dog',\n",
    "    6: 'frog',\n",
    "    7: 'horse',\n",
    "    8: 'ship',\n",
    "    9: 'truck'\n",
    "}\n",
    "\n",
    "# Get CIFAR class indices (precompute for speed)\n",
    "cifar_class_to_idx = {class_name: idx for idx, class_name in enumerate(cifar_data.classes)}\n",
    "cifar_class_indices = {class_name: [] for class_name in cifar_data.classes}\n",
    "\n",
    "# Store indices of CIFAR images per class\n",
    "for i, (_, label) in enumerate(cifar_data):\n",
    "    class_name = cifar_data.classes[label]\n",
    "    cifar_class_indices[class_name].append(i)\n",
    "\n",
    "# Create paired dataset\n",
    "combined_images = []\n",
    "combined_labels = []\n",
    "\n",
    "for mnist_img, mnist_label in mnist_data:\n",
    "    cifar_class_name = mnist_to_cifar_map[mnist_label]\n",
    "    cifar_indices = cifar_class_indices[cifar_class_name]  # Get precomputed indices\n",
    "    \n",
    "    if not cifar_indices:\n",
    "        continue  # Skip if no images (shouldn't happen)\n",
    "\n",
    "    # Select a random image from the matching CIFAR class\n",
    "    cifar_idx = random.choice(cifar_indices)\n",
    "    cifar_img, _ = cifar_data[cifar_idx]\n",
    "\n",
    "    # Concatenate images horizontally\n",
    "    mnist_img = transforms.ToPILImage()(mnist_img)\n",
    "    cifar_img = transforms.ToPILImage()(cifar_img)\n",
    "    combined_img = Image.new('RGB', (64, 32))  # Create a new canvas\n",
    "    combined_img.paste(mnist_img, (0, 0))\n",
    "    combined_img.paste(cifar_img, (32, 0))\n",
    "\n",
    "    # Convert back to tensor\n",
    "    combined_tensor = transforms.ToTensor()(combined_img)\n",
    "    \n",
    "    # Store paired image and label\n",
    "    combined_images.append(combined_tensor)\n",
    "    combined_labels.append(mnist_label)  # Keeping MNIST labels"
   ]
  },
  {
   "cell_type": "code",
   "execution_count": 3,
   "id": "863b7ea7",
   "metadata": {},
   "outputs": [],
   "source": [
    "# Creates the CIFAR dominated data, from model 2\n",
    "\n",
    "cifar_labels = ['airplane', 'automobile', 'bird', 'cat', 'deer', 'dog', 'frog', 'horse', 'ship', 'truck']\n",
    "\n",
    "# Get CIFAR class indices (precompute for speed)\n",
    "cifar_class_indices = {class_name: [] for class_name in cifar_data.classes}\n",
    "\n",
    "# Store indices of CIFAR images per class\n",
    "for i, (_, label) in enumerate(cifar_data):\n",
    "    class_name = cifar_data.classes[label]\n",
    "    cifar_class_indices[class_name].append(i)\n",
    "\n",
    "# Create paired dataset (random pairing with CIFAR label as the label)\n",
    "combined_images = []\n",
    "combined_labels = []\n",
    "\n",
    "for mnist_img, mnist_label in mnist_data:\n",
    "    # Randomly select a CIFAR image and its label\n",
    "    random_class_name = random.choice(cifar_labels)  # Randomly select class from CIFAR\n",
    "    cifar_indices = cifar_class_indices[random_class_name]  # Get precomputed indices for that class\n",
    "    \n",
    "    if not cifar_indices:\n",
    "        continue  # Skip if no images (shouldn't happen)\n",
    "\n",
    "    # Select a random image from the CIFAR class\n",
    "    cifar_idx = random.choice(cifar_indices)\n",
    "    cifar_img, cifar_label = cifar_data[cifar_idx]\n",
    "\n",
    "    # Concatenate images horizontally\n",
    "    mnist_img = transforms.ToPILImage()(mnist_img)\n",
    "    cifar_img = transforms.ToPILImage()(cifar_img)\n",
    "    combined_img = Image.new('RGB', (64, 32))  # Create a new canvas\n",
    "    combined_img.paste(mnist_img, (0, 0))\n",
    "    combined_img.paste(cifar_img, (32, 0))\n",
    "\n",
    "    # Convert back to tensor\n",
    "    combined_tensor = transforms.ToTensor()(combined_img)\n",
    "    \n",
    "    # Store paired image and label (using CIFAR label)\n",
    "    combined_images.append(combined_tensor)\n",
    "    combined_labels.append(cifar_label)  # Now using CIFAR's label"
   ]
  },
  {
   "cell_type": "code",
   "execution_count": 200,
   "id": "6140f312",
   "metadata": {},
   "outputs": [
    {
     "name": "stdout",
     "output_type": "stream",
     "text": [
      "Dataset successfully created with 60000 images!\n"
     ]
    }
   ],
   "source": [
    "# Convert to dataset\n",
    "class MNISTCIFARDataset(torch.utils.data.Dataset):\n",
    "    def __init__(self, images, labels):\n",
    "        self.images = images\n",
    "        self.labels = labels\n",
    "\n",
    "    def __len__(self):\n",
    "        return len(self.images)\n",
    "\n",
    "    def __getitem__(self, idx):\n",
    "        return self.images[idx], self.labels[idx]\n",
    "\n",
    "combined_dataset = MNISTCIFARDataset(combined_images, combined_labels)\n",
    "combined_loader = DataLoader(combined_dataset, batch_size=32, shuffle=True)\n",
    "\n",
    "print(f\"Dataset successfully created with {len(combined_dataset)} images!\")"
   ]
  },
  {
   "cell_type": "code",
   "execution_count": 208,
   "id": "721e8793",
   "metadata": {},
   "outputs": [
    {
     "data": {
      "image/png": "[encoded data removed]",
      "text/plain": [
       "<Figure size 1200x400 with 1 Axes>"
      ]
     },
     "metadata": {},
     "output_type": "display_data"
    }
   ],
   "source": [
    "# Use this to plot the images and double check which data you're using\n",
    "import matplotlib.pyplot as plt\n",
    "import torchvision.utils as vutils\n",
    "\n",
    "# Function to show a batch of combined MNIST-CIFAR images with their labels\n",
    "def show_combined_images_with_labels(dataloader, num_images=6):\n",
    "    data_iter = iter(dataloader)\n",
    "    images, labels = next(data_iter)  # Get first batch\n",
    "\n",
    "    # Select only the first `num_images` images\n",
    "    images = images[:num_images]\n",
    "    labels = labels[:num_images]  # Corresponding labels\n",
    "    #images[:, :, :, :32] = 0 #MNIST blackout images\n",
    "    #images[:, :, :, 32:] = 0 #CIFAR blackout images, meaning CIFAR is blacked out and only MNIST is visible\n",
    "\n",
    "    # Create a grid of images\n",
    "    grid_img = vutils.make_grid(images, nrow=num_images, padding=2, normalize=True)\n",
    "\n",
    "    # Display the images\n",
    "    plt.figure(figsize=(12, 4))\n",
    "    plt.imshow(grid_img.permute(1, 2, 0))  # Change from (C, H, W) to (H, W, C) for display\n",
    "    plt.axis(\"off\")\n",
    "\n",
    "    # Add labels to the images\n",
    "    for i in range(num_images):\n",
    "        label = labels[i].item()  # Get label (make sure it's a scalar)\n",
    "        plt.text(\n",
    "            i * 64 + 8,  # x position\n",
    "            30,  # y position (near the bottom of the image)\n",
    "            str(label),  # Label text\n",
    "            color='white',  # White color for the text\n",
    "            fontsize=12,\n",
    "            fontweight='bold'\n",
    "        )\n",
    "\n",
    "    plt.title(\"MNIST-CIFAR Combined Images with Labels\")\n",
    "    plt.show()\n",
    "\n",
    "# Call function to display images with labels\n",
    "show_combined_images_with_labels(combined_loader)"
   ]
  },
  {
   "cell_type": "code",
   "execution_count": 234,
   "id": "bfe7e028",
   "metadata": {},
   "outputs": [],
   "source": [
    "#define the archecture for the imported models\n",
    "import torch.nn as nn\n",
    "import torch.nn.functional as F\n",
    "\n",
    "class Net(nn.Module):\n",
    "    def __init__(self):\n",
    "        super(Net, self).__init__()\n",
    "        self.conv1 = nn.Conv2d(3, 6, 5)  \n",
    "        self.pool = nn.MaxPool2d(2, 2) \n",
    "        self.conv2 = nn.Conv2d(6, 16, 5)\n",
    "        self.pool2 = nn.MaxPool2d(2, 2)\n",
    "        self.fc1 = nn.Linear(16 * 13 * 5, 120)\n",
    "        self.fc2 = nn.Linear(120, 84)\n",
    "        self.fc3 = nn.Linear(84, 10)\n",
    "\n",
    "    def forward(self, x):\n",
    "        x = self.pool(F.relu(self.conv1(x)))  \n",
    "        x = self.pool2(F.relu(self.conv2(x))) \n",
    "        x = x.view(-1, 16 * 13 * 5)\n",
    "        x = F.relu(self.fc1(x))\n",
    "        x = F.relu(self.fc2(x))\n",
    "        x = self.fc3(x)\n",
    "        \n",
    "        return x\n",
    "\n",
    "# Instantiate the model\n",
    "net = Net()"
   ]
  },
  {
   "cell_type": "code",
   "execution_count": 235,
   "id": "33b3509d",
   "metadata": {},
   "outputs": [
    {
     "name": "stderr",
     "output_type": "stream",
     "text": [
      "/var/folders/w5/cr9dv6h106v9sddn3p0_pt200000gn/T/ipykernel_29304/721189659.py:2: FutureWarning: You are using `torch.load` with `weights_only=False` (the current default value), which uses the default pickle module implicitly. It is possible to construct malicious pickle data which will execute arbitrary code during unpickling (See https://github.com/pytorch/pytorch/blob/main/SECURITY.md#untrusted-models for more details). In a future release, the default value for `weights_only` will be flipped to `True`. This limits the functions that could be executed during unpickling. Arbitrary objects will no longer be allowed to be loaded via this mode unless they are explicitly allowlisted by the user via `torch.serialization.add_safe_globals`. We recommend you start setting `weights_only=True` for any use case where you don't have full control of the loaded file. Please open an issue on GitHub for any issues related to this experimental feature.\n",
      "  net1 = torch.load('model_cifar_mnist_1_full.pth')\n",
      "/var/folders/w5/cr9dv6h106v9sddn3p0_pt200000gn/T/ipykernel_29304/721189659.py:3: FutureWarning: You are using `torch.load` with `weights_only=False` (the current default value), which uses the default pickle module implicitly. It is possible to construct malicious pickle data which will execute arbitrary code during unpickling (See https://github.com/pytorch/pytorch/blob/main/SECURITY.md#untrusted-models for more details). In a future release, the default value for `weights_only` will be flipped to `True`. This limits the functions that could be executed during unpickling. Arbitrary objects will no longer be allowed to be loaded via this mode unless they are explicitly allowlisted by the user via `torch.serialization.add_safe_globals`. We recommend you start setting `weights_only=True` for any use case where you don't have full control of the loaded file. Please open an issue on GitHub for any issues related to this experimental feature.\n",
      "  net2 = torch.load('model_cifar_mnist_2_full.pth')\n"
     ]
    }
   ],
   "source": [
    "#This loads the two trained model. Model 1 is trained on corolated data, model 2 is trained on CIFAR dominant data \n",
    "net1 = torch.load('model_cifar_mnist_1_full.pth')\n",
    "net2 = torch.load('model_cifar_mnist_2_full.pth')"
   ]
  },
  {
   "cell_type": "code",
   "execution_count": 231,
   "id": "160078ba",
   "metadata": {},
   "outputs": [],
   "source": [
    "#Choose which model to work with"
   ]
  },
  {
   "cell_type": "code",
   "execution_count": 238,
   "id": "28b6ac32",
   "metadata": {},
   "outputs": [
    {
     "name": "stdout",
     "output_type": "stream",
     "text": [
      "Accuracy for airplane 0: 99.41%\n",
      "Accuracy for automobile 1: 98.50%\n",
      "Accuracy for bird 2: 96.34%\n",
      "Accuracy for cat 3: 96.97%\n",
      "Accuracy for deer 4: 95.98%\n",
      "Accuracy for dog 5: 96.27%\n",
      "Accuracy for frog 6: 95.79%\n",
      "Accuracy for horse 7: 97.35%\n",
      "Accuracy for ship 8: 91.25%\n",
      "Accuracy for truck 9: 97.43%\n",
      "total_accuracy 96.57166666666667\n"
     ]
    }
   ],
   "source": [
    "#This evaluates the model performance based on whatever data is loaded\n",
    "def calculate_class_accuracies(model, testloader, classes):\n",
    "    # Set model to evaluation mode\n",
    "    model.eval()\n",
    "    \n",
    "    # Initialize variables to track correct predictions for each class\n",
    "    class_correct = [0] * len(classes)\n",
    "    class_total = [0] * len(classes)\n",
    "\n",
    "    # Iterate through the test dataset\n",
    "    with torch.no_grad():  # Don't compute gradients during evaluation\n",
    "        for data in testloader:\n",
    "            images, labels = data  # Get images and corresponding labels\n",
    "            outputs = model(images)  # Get model outputs\n",
    "            _, predicted = torch.max(outputs, 1)  # Get predicted labels\n",
    "\n",
    "            # Update correct predictions for each class\n",
    "            for i in range(len(labels)):\n",
    "                label = labels[i].item()\n",
    "                class_total[label] += 1\n",
    "                if predicted[i].item() == label:\n",
    "                    class_correct[label] += 1\n",
    "\n",
    "    # Print accuracy for each class\n",
    "    total_correct = 0\n",
    "    total_images = 0\n",
    "    for i in range(len(classes)):\n",
    "        accuracy = 100 * class_correct[i] / class_total[i] if class_total[i] > 0 else 0\n",
    "        print(f'Accuracy for {classes[i]}: {accuracy:.2f}%')\n",
    "        total_correct += class_correct[i]\n",
    "        total_images += class_total[i]\n",
    "    \n",
    "    total_accuracy = (total_correct / total_images) * 100\n",
    "    print(\"total_accuracy\", total_accuracy)\n",
    "        \n",
    "\n",
    "# Example usage: Assuming testloader and class names are defined\n",
    "# The 'classes' should be a list of class names for your dataset (e.g., CIFAR-10 classes)\n",
    "\n",
    "# Define class names (CIFAR-10 example)\n",
    "cifar_mnist_classes = ['airplane 0', 'automobile 1', 'bird 2', 'cat 3', 'deer 4', 'dog 5', \n",
    "                 'frog 6', 'horse 7', 'ship 8', 'truck 9']\n",
    "\n",
    "# Call the function to calculate and print class-wise accuracies\n",
    "calculate_class_accuracies(net1, combined_loader, cifar_mnist_classes)"
   ]
  },
  {
   "cell_type": "code",
   "execution_count": 213,
   "id": "f3ec7f15",
   "metadata": {},
   "outputs": [
    {
     "name": "stdout",
     "output_type": "stream",
     "text": [
      "Model accuracy on 60000 test images: 56.93%\n"
     ]
    }
   ],
   "source": [
    "# Accuracy test\n",
    "total_correct = 0\n",
    "total_images = 0\n",
    "confusion_matrix = np.zeros([10,10], int)\n",
    "with torch.no_grad():\n",
    "    for data in combined_loader:\n",
    "        images, labels = data\n",
    "        outputs = net2(images)\n",
    "        _, predicted = torch.max(outputs.data, 1)\n",
    "        total_images += labels.size(0)\n",
    "        total_correct += (predicted == labels).sum().item()\n",
    "        for i, l in enumerate(labels):\n",
    "            confusion_matrix[l.item(), predicted[i].item()] += 1 \n",
    "\n",
    "model_accuracy = total_correct / total_images * 100\n",
    "print('Model accuracy on {0} test images: {1:.2f}%'.format(total_images, model_accuracy))"
   ]
  },
  {
   "cell_type": "code",
   "execution_count": 179,
   "id": "2589e553",
   "metadata": {},
   "outputs": [],
   "source": [
    "#Stitching network\n",
    "import torch.nn as nn\n",
    "import torch.nn.functional as F\n",
    "\n",
    "class Net(nn.Module):\n",
    "    def __init__(self):\n",
    "        super(Net, self).__init__()\n",
    "        self.conv1 = nn.Conv2d(3, 6, 5)\n",
    "        self.pool = nn.MaxPool2d(2, 2)\n",
    "        self.conv2 = nn.Conv2d(6, 16, 5)\n",
    "        self.pool2 = nn.MaxPool2d(2, 2)\n",
    "        self.fc1 = nn.Linear(16 * 13 * 5, 120)\n",
    "        self.stitch = nn.Linear(120, 120)\n",
    "        self.fc2 = nn.Linear(120, 84)\n",
    "        self.fc3 = nn.Linear(84, 10)\n",
    "\n",
    "    def forward(self, x):\n",
    "        x = self.pool(F.relu(self.conv1(x)))\n",
    "        x = self.pool(F.relu(self.conv2(x)))\n",
    "        x = x.view(-1, 16 * 13 * 5)\n",
    "        x = F.relu(self.fc1(x))\n",
    "        x = F.relu(self.stitch(x))\n",
    "        x = F.relu(self.fc2(x))\n",
    "        x = self.fc3(x)\n",
    "        return x\n",
    "   \n",
    "net3 = Net()"
   ]
  },
  {
   "cell_type": "code",
   "execution_count": 181,
   "id": "8f8036b4",
   "metadata": {},
   "outputs": [],
   "source": [
    "# Get the state_dict for each model\n",
    "state_dict_1 = net1.state_dict()\n",
    "state_dict_2 = net2.state_dict()\n",
    "state_dict_3 = net3.state_dict()\n",
    "\n",
    "# Iterate over the state_dict keys and copy weights\n",
    "keys = list(state_dict_3.keys())\n",
    "for i, key in enumerate(keys):\n",
    "    if i < 6:\n",
    "        # First half from model_A\n",
    "        state_dict_3[key] = state_dict_2[key]\n",
    "    elif i > 7:\n",
    "        # Second half from model_B\n",
    "        state_dict_3[key] = state_dict_1[key]\n",
    "\n",
    "# Load the modified state_dict into model_C\n",
    "net3.load_state_dict(state_dict_3)\n",
    "net = net3"
   ]
  },
  {
   "cell_type": "code",
   "execution_count": 182,
   "id": "8102ad5e",
   "metadata": {},
   "outputs": [
    {
     "name": "stdout",
     "output_type": "stream",
     "text": [
      "Predicted: tensor([5, 4, 2, 1, 5, 4, 4, 6, 4, 4, 2, 5, 4, 2, 1, 7, 7, 3, 4, 1, 2, 2, 9, 7,\n",
      "        5, 5, 4, 4, 2, 5, 8, 1])\n"
     ]
    }
   ],
   "source": [
    "# Set model to evaluation mode\n",
    "net3.eval()\n",
    "\n",
    "# Example: Test with some data\n",
    "dataiter = iter(combined_loader)\n",
    "images, labels = next(dataiter)\n",
    "\n",
    "# Perform inference\n",
    "outputs = net3(images)\n",
    "_, predicted = torch.max(outputs, 1)\n",
    "\n",
    "print('Predicted:', predicted)"
   ]
  },
  {
   "cell_type": "code",
   "execution_count": 183,
   "id": "22f040c0",
   "metadata": {},
   "outputs": [],
   "source": [
    "import torch.optim as optim\n",
    "\n",
    "criterion = nn.CrossEntropyLoss()\n",
    "\n",
    "# Set up the optimizer for the unfrozen parameters\n",
    "optimizer = torch.optim.SGD(filter(lambda p: p.requires_grad, net.parameters()), lr=0.001, momentum=0.9)"
   ]
  },
  {
   "cell_type": "code",
   "execution_count": 184,
   "id": "e6217c52",
   "metadata": {
    "scrolled": false
   },
   "outputs": [
    {
     "name": "stdout",
     "output_type": "stream",
     "text": [
      "[1,   500] loss: 0.442\n",
      "[1,  1000] loss: 0.347\n",
      "[1,  1500] loss: 0.320\n",
      "[2,   500] loss: 0.303\n",
      "[2,  1000] loss: 0.293\n",
      "[2,  1500] loss: 0.289\n",
      "[3,   500] loss: 0.284\n",
      "[3,  1000] loss: 0.279\n",
      "[3,  1500] loss: 0.283\n",
      "[4,   500] loss: 0.278\n",
      "[4,  1000] loss: 0.275\n",
      "[4,  1500] loss: 0.279\n",
      "[5,   500] loss: 0.271\n",
      "[5,  1000] loss: 0.271\n",
      "[5,  1500] loss: 0.278\n",
      "[6,   500] loss: 0.268\n",
      "[6,  1000] loss: 0.268\n",
      "[6,  1500] loss: 0.273\n",
      "[7,   500] loss: 0.267\n",
      "[7,  1000] loss: 0.269\n",
      "[7,  1500] loss: 0.266\n",
      "[8,   500] loss: 0.267\n",
      "[8,  1000] loss: 0.266\n",
      "[8,  1500] loss: 0.267\n",
      "[9,   500] loss: 0.264\n",
      "[9,  1000] loss: 0.264\n",
      "[9,  1500] loss: 0.264\n",
      "[10,   500] loss: 0.264\n",
      "[10,  1000] loss: 0.261\n",
      "[10,  1500] loss: 0.261\n",
      "Finished Training.\n"
     ]
    }
   ],
   "source": [
    "    epochs = 10\n",
    "    \n",
    "    # Freeze all layers initially\n",
    "    for param in net.parameters():\n",
    "        param.requires_grad = False\n",
    "    \n",
    "    #Unfreeze stitching layer\n",
    "    for param in net.stitch.parameters():\n",
    "        param.requires_grad = True\n",
    "    \n",
    "    for epoch in range(epochs):  # loop over the dataset multiple times\n",
    "\n",
    "        running_loss = 0.0\n",
    "        for i, data in enumerate(combined_loader, 0):\n",
    "            # get the inputs\n",
    "            inputs, labels = data\n",
    "\n",
    "            # zero the parameter gradients\n",
    "            optimizer.zero_grad()\n",
    "\n",
    "            # forward + backward + optimize\n",
    "            outputs = net(inputs)\n",
    "            loss = criterion(outputs, labels)\n",
    "            loss.backward()\n",
    "            optimizer.step()\n",
    "\n",
    "            # print statistics\n",
    "            running_loss += loss.item()\n",
    "            if i % 500 == 499:    # print every 2000 mini-batches\n",
    "                print('[%d, %5d] loss: %.3f' %\n",
    "                      (epoch + 1, i + 1, running_loss / 2000))\n",
    "                running_loss = 0.0\n",
    "    print('Finished Training.')"
   ]
  },
  {
   "cell_type": "code",
   "execution_count": 185,
   "id": "566b5b18",
   "metadata": {},
   "outputs": [
    {
     "name": "stdout",
     "output_type": "stream",
     "text": [
      "Model accuracy on 60000 test images: 64.52%\n"
     ]
    }
   ],
   "source": [
    "total_correct = 0\n",
    "total_images = 0\n",
    "confusion_matrix = np.zeros([10,10], int)\n",
    "with torch.no_grad():\n",
    "    for data in combined_loader:\n",
    "        images, labels = data\n",
    "        outputs = net(images)\n",
    "        _, predicted = torch.max(outputs.data, 1)\n",
    "        total_images += labels.size(0)\n",
    "        total_correct += (predicted == labels).sum().item()\n",
    "        for i, l in enumerate(labels):\n",
    "            confusion_matrix[l.item(), predicted[i].item()] += 1 \n",
    "\n",
    "model_accuracy = total_correct / total_images * 100\n",
    "print('Model accuracy on {0} test images: {1:.2f}%'.format(total_images, model_accuracy))"
   ]
  },
  {
   "cell_type": "code",
   "execution_count": 186,
   "id": "b27a7ff7",
   "metadata": {},
   "outputs": [
    {
     "name": "stdout",
     "output_type": "stream",
     "text": [
      "Model accuracy with MNIST blacked out: 61.45%\n"
     ]
    }
   ],
   "source": [
    "total_correct_2 = 0\n",
    "total_images_2 = 0\n",
    "confusion_matrix = np.zeros([10,10], int)\n",
    "\n",
    "with torch.no_grad():\n",
    "    for data in combined_loader:\n",
    "        images, labels = data\n",
    "\n",
    "        # Blackout MNIST side (left half of the image)\n",
    "        images[:, :, :, :32] = 0  # Assuming image shape (B, C, H, W)\n",
    "\n",
    "        outputs = net(images)\n",
    "        _, predicted = torch.max(outputs.data, 1)\n",
    "        total_images_2 += labels.size(0)\n",
    "        total_correct_2 += (predicted == labels).sum().item()\n",
    "        \n",
    "        for i, l in enumerate(labels):\n",
    "            confusion_matrix[l.item(), predicted[i].item()] += 1 \n",
    "\n",
    "mnist_blackout_accuracy = total_correct_2 / total_images_2 * 100\n",
    "print('Model accuracy with MNIST blacked out: {:.2f}%'.format(mnist_blackout_accuracy))"
   ]
  },
  {
   "cell_type": "code",
   "execution_count": 187,
   "id": "d53bbc2b",
   "metadata": {},
   "outputs": [
    {
     "name": "stdout",
     "output_type": "stream",
     "text": [
      "Model accuracy with CIFAR blacked out: 20.28%\n"
     ]
    }
   ],
   "source": [
    "total_correct_3 = 0\n",
    "total_images_3 = 0\n",
    "confusion_matrix = np.zeros([10,10], int)\n",
    "\n",
    "with torch.no_grad():\n",
    "    for data in combined_loader:\n",
    "        images, labels = data\n",
    "\n",
    "        # Blackout CIFAR side (right half of the image)\n",
    "        images[:, :, :, 32:] = 0  # Assuming image shape (B, C, H, W)\n",
    "\n",
    "        outputs = net(images)\n",
    "        _, predicted = torch.max(outputs.data, 1)\n",
    "        total_images_3 += labels.size(0)\n",
    "        total_correct_3 += (predicted == labels).sum().item()\n",
    "        \n",
    "        for i, l in enumerate(labels):\n",
    "            confusion_matrix[l.item(), predicted[i].item()] += 1 \n",
    "\n",
    "cifar_blackout_accuracy = total_correct_3 / total_images_3 * 100\n",
    "print('Model accuracy with CIFAR blacked out: {:.2f}%'.format(cifar_blackout_accuracy))"
   ]
  },
  {
   "cell_type": "code",
   "execution_count": 188,
   "id": "0d1ef47d",
   "metadata": {},
   "outputs": [
    {
     "name": "stdout",
     "output_type": "stream",
     "text": [
      "Model accuracy on 60000 test images: 64.52%\n",
      "Model accuracy with CIFAR blacked out: 20.28%\n",
      "Model accuracy with MNIST blacked out: 61.45%\n"
     ]
    }
   ],
   "source": [
    "print('Model accuracy on {0} test images: {1:.2f}%'.format(total_images, model_accuracy))\n",
    "print('Model accuracy with CIFAR blacked out: {:.2f}%'.format(cifar_blackout_accuracy))\n",
    "print('Model accuracy with MNIST blacked out: {:.2f}%'.format(mnist_blackout_accuracy))"
   ]
  },
  {
   "cell_type": "code",
   "execution_count": 260,
   "id": "5b20b740",
   "metadata": {},
   "outputs": [
    {
     "data": {
      "text/plain": [
       "0.0001004812240600586"
      ]
     },
     "execution_count": 260,
     "metadata": {},
     "output_type": "execute_result"
    }
   ],
   "source": [
    "compute_loss_sharpness(net2, criterion, combined_loader)"
   ]
  },
  {
   "cell_type": "code",
   "execution_count": 261,
   "id": "aa1be71c",
   "metadata": {},
   "outputs": [
    {
     "data": {
      "text/plain": [
       "4.024377608998616"
      ]
     },
     "execution_count": 261,
     "metadata": {},
     "output_type": "execute_result"
    }
   ],
   "source": [
    "compute_gradient_norm(net2, criterion, combined_loader)"
   ]
  },
  {
   "cell_type": "code",
   "execution_count": 262,
   "id": "395b1435",
   "metadata": {},
   "outputs": [
    {
     "data": {
      "text/plain": [
       "4146032"
      ]
     },
     "execution_count": 262,
     "metadata": {},
     "output_type": "execute_result"
    }
   ],
   "source": [
    "compress_model_numpy(net2)"
   ]
  },
  {
   "cell_type": "code",
   "execution_count": null,
   "id": "ea7ebcec",
   "metadata": {},
   "outputs": [],
   "source": []
  },
  {
   "cell_type": "code",
   "execution_count": 246,
   "id": "e269575b",
   "metadata": {},
   "outputs": [],
   "source": [
    "import torch\n",
    "import numpy as np\n",
    "import gzip\n",
    "import pickle\n",
    "import copy\n",
    "\n",
    "def compute_loss_sharpness(model, loss_fn, testloader, epsilon=1e-3):\n",
    "    \"\"\"Computes the sharpness measure by perturbing model parameters without modifying the original model.\"\"\"\n",
    "    model.eval()\n",
    "    total_sharpness = 0.0\n",
    "    num_batches = 0\n",
    "\n",
    "    for data, target in testloader:\n",
    "        data, target = data.to(next(model.parameters()).device), target.to(next(model.parameters()).device)\n",
    "\n",
    "        with torch.no_grad():\n",
    "            output = model(data)\n",
    "            original_loss = loss_fn(output, target).item()\n",
    "\n",
    "        # Clone model\n",
    "        perturbed_model = copy.deepcopy(model)\n",
    "        perturbed_model.to(next(model.parameters()).device)\n",
    "\n",
    "        # Apply perturbation to the cloned model's parameters\n",
    "        with torch.no_grad():\n",
    "            for p in perturbed_model.parameters():\n",
    "                p.add_(epsilon * torch.randn_like(p))  # Apply perturbation directly\n",
    "\n",
    "        # Compute loss with perturbed parameters\n",
    "        with torch.no_grad():\n",
    "            perturbed_output = perturbed_model(data)\n",
    "            perturbed_loss = loss_fn(perturbed_output, target).item()\n",
    "\n",
    "        total_sharpness += perturbed_loss - original_loss\n",
    "        num_batches += 1\n",
    "\n",
    "    return total_sharpness / num_batches if num_batches > 0 else 0.0\n",
    "\n",
    "def compute_gradient_norm(model, loss_fn, testloader):\n",
    "    \"\"\"Computes the average gradient norm over the test set without modifying the model state.\"\"\"\n",
    "    model.eval()\n",
    "    total_norm = 0.0\n",
    "    num_batches = 0\n",
    "\n",
    "    for data, target in testloader:\n",
    "        data, target = data.to(next(model.parameters()).device), target.to(next(model.parameters()).device)\n",
    "\n",
    "        # Compute loss without modifying model\n",
    "        with torch.no_grad():\n",
    "            output = model(data)\n",
    "            loss = loss_fn(output, target)\n",
    "\n",
    "        # Compute gradients in a cloned model\n",
    "        cloned_model = type(model)()  # Create a new instance of the model\n",
    "        cloned_model.load_state_dict(model.state_dict())\n",
    "        cloned_model.to(next(model.parameters()).device)\n",
    "        cloned_model.zero_grad()\n",
    "\n",
    "        output = cloned_model(data)\n",
    "        loss = loss_fn(output, target)\n",
    "        loss.backward()\n",
    "\n",
    "        batch_norm = torch.sqrt(sum(p.grad.norm()**2 for p in cloned_model.parameters() if p.grad is not None))\n",
    "        total_norm += batch_norm.item()\n",
    "        num_batches += 1\n",
    "\n",
    "    return total_norm / num_batches if num_batches > 0 else 0.0\n",
    "\n",
    "def compress_model_numpy(model):\n",
    "    \"\"\"Compresses the model's parameters into a bit stream.\"\"\"\n",
    "    with torch.no_grad():\n",
    "        weights = np.concatenate([p.cpu().detach().numpy().flatten() for p in model.parameters()])\n",
    "    model_bytes = pickle.dumps(weights)\n",
    "    compressed = gzip.compress(model_bytes)\n",
    "    return len(compressed) * 8  # Size in bits\n"
   ]
  },
  {
   "cell_type": "code",
   "execution_count": 26,
   "id": "47020ba0",
   "metadata": {},
   "outputs": [],
   "source": [
    "def compute_loss_sharpness(model, loss_fn, testloader, epsilon=1e-3):\n",
    "    \"\"\"Computes the sharpness measure by perturbing model parameters.\"\"\"\n",
    "    model.eval()\n",
    "    total_sharpness = 0.0\n",
    "    num_batches = 0\n",
    "\n",
    "    original_params = {name: p.clone() for name, p in model.named_parameters()}\n",
    "\n",
    "    for data, target in testloader:\n",
    "        data, target = data.to(next(model.parameters()).device), target.to(next(model.parameters()).device)\n",
    "        \n",
    "        model.zero_grad()\n",
    "        output = model(data)\n",
    "        original_loss = loss_fn(output, target).item()\n",
    "\n",
    "        # Perturb parameters\n",
    "        for p in model.parameters():\n",
    "            p.data += epsilon * torch.randn_like(p)\n",
    "\n",
    "        perturbed_output = model(data)\n",
    "        perturbed_loss = loss_fn(perturbed_output, target).item()\n",
    "\n",
    "        # Restore original parameters\n",
    "        for name, p in model.named_parameters():\n",
    "            p.data = original_params[name]\n",
    "\n",
    "        total_sharpness += perturbed_loss - original_loss\n",
    "        num_batches += 1\n",
    "\n",
    "    return total_sharpness / num_batches if num_batches > 0 else 0.0"
   ]
  },
  {
   "cell_type": "code",
   "execution_count": 27,
   "id": "9a2c9cb9",
   "metadata": {},
   "outputs": [],
   "source": [
    "def compute_gradient_norm(model, loss_fn, testloader):\n",
    "    \"\"\"Computes the average gradient norm over the test set.\"\"\"\n",
    "    model.eval()\n",
    "    total_norm = 0.0\n",
    "    num_batches = 0\n",
    "\n",
    "    for data, target in testloader:\n",
    "        data, target = data.to(next(model.parameters()).device), target.to(next(model.parameters()).device)\n",
    "        \n",
    "        model.zero_grad()\n",
    "        output = model(data)\n",
    "        loss = loss_fn(output, target)\n",
    "        loss.backward()\n",
    "        \n",
    "        batch_norm = torch.sqrt(sum(p.grad.norm()**2 for p in model.parameters() if p.grad is not None))\n",
    "        total_norm += batch_norm.item()\n",
    "        num_batches += 1\n",
    "\n",
    "    return total_norm / num_batches if num_batches > 0 else 0.0"
   ]
  },
  {
   "cell_type": "code",
   "execution_count": null,
   "id": "2ba6ac68",
   "metadata": {},
   "outputs": [],
   "source": [
    "import gzip\n",
    "import pickle\n",
    "\n",
    "def compress_model_numpy(model):\n",
    "    weights = np.concatenate([p.cpu().detach().numpy().flatten() for p in model.parameters()])\n",
    "    model_bytes = pickle.dumps(weights)\n",
    "    compressed = gzip.compress(model_bytes)\n",
    "    return len(compressed) * 8  # Size in bits"
   ]
  },
  {
   "cell_type": "code",
   "execution_count": null,
   "id": "dfb7be51",
   "metadata": {},
   "outputs": [],
   "source": []
  },
  {
   "cell_type": "code",
   "execution_count": null,
   "id": "996d0d6f",
   "metadata": {},
   "outputs": [],
   "source": []
  },
  {
   "cell_type": "code",
   "execution_count": null,
   "id": "bb821539",
   "metadata": {},
   "outputs": [],
   "source": []
  },
  {
   "cell_type": "code",
   "execution_count": null,
   "id": "51c71bf3",
   "metadata": {},
   "outputs": [],
   "source": []
  },
  {
   "cell_type": "code",
   "execution_count": null,
   "id": "f596b8f9",
   "metadata": {},
   "outputs": [],
   "source": []
  },
  {
   "cell_type": "code",
   "execution_count": null,
   "id": "f3338283",
   "metadata": {},
   "outputs": [],
   "source": []
  },
  {
   "cell_type": "code",
   "execution_count": null,
   "id": "13a5e946",
   "metadata": {},
   "outputs": [],
   "source": []
  },
  {
   "cell_type": "code",
   "execution_count": 263,
   "id": "b6d85aab",
   "metadata": {},
   "outputs": [
    {
     "name": "stdout",
     "output_type": "stream",
     "text": [
      "Accuracy for airplane: 66.32%\n",
      "Accuracy for automobile: 75.70%\n",
      "Accuracy for bird: 47.89%\n",
      "Accuracy for cat: 47.10%\n",
      "Accuracy for deer: 58.56%\n",
      "Accuracy for dog: 50.95%\n",
      "Accuracy for frog: 69.43%\n",
      "Accuracy for horse: 70.06%\n",
      "Accuracy for ship: 75.24%\n",
      "Accuracy for truck: 69.73%\n"
     ]
    }
   ],
   "source": [
    "def calculate_class_accuracies(model, testloader, classes):\n",
    "    # Set model to evaluation mode\n",
    "    model.eval()\n",
    "    \n",
    "    # Initialize variables to track correct predictions for each class\n",
    "    class_correct = [0] * len(classes)\n",
    "    class_total = [0] * len(classes)\n",
    "\n",
    "    # Iterate through the test dataset\n",
    "    with torch.no_grad():  # Don't compute gradients during evaluation\n",
    "        for data in testloader:\n",
    "            images, labels = data  # Get images and corresponding labels\n",
    "            outputs = model(images)  # Get model outputs\n",
    "            _, predicted = torch.max(outputs, 1)  # Get predicted labels\n",
    "\n",
    "            # Update correct predictions for each class\n",
    "            for i in range(len(labels)):\n",
    "                label = labels[i].item()\n",
    "                class_total[label] += 1\n",
    "                if predicted[i].item() == label:\n",
    "                    class_correct[label] += 1\n",
    "\n",
    "    # Print accuracy for each class\n",
    "    for i in range(len(classes)):\n",
    "        accuracy = 100 * class_correct[i] / class_total[i] if class_total[i] > 0 else 0\n",
    "        print(f'Accuracy for {classes[i]}: {accuracy:.2f}%')\n",
    "\n",
    "cifar_mnist_classes = ['airplane 0', 'automobile 1', 'bird 2', 'cat 3', 'deer 4', 'dog 5', \n",
    "                 'frog 6', 'horse 7', 'ship 8', 'truck 9']\n",
    "cifar_classes = ['airplane', 'automobile', 'bird', 'cat', 'deer', 'dog', 'frog', 'horse', 'ship', 'truck']\n",
    "\n",
    "# Call the function to calculate and print class-wise accuracies\n",
    "calculate_class_accuracies(net2, combined_loader, cifar_classes)"
   ]
  },
  {
   "cell_type": "code",
   "execution_count": 167,
   "id": "0be9e62f",
   "metadata": {},
   "outputs": [
    {
     "data": {
      "image/png": "[encoded data removed]",
      "text/plain": [
       "<Figure size 800x600 with 1 Axes>"
      ]
     },
     "metadata": {},
     "output_type": "display_data"
    }
   ],
   "source": [
    "cifar_labels = ['airplane', 'automobile', 'bird', 'cat', 'deer', 'dog', 'frog', 'horse', 'ship', 'truck']\n",
    "mnist_labels = ['0','1', '2', '3', '4', '5', '6', '7', '8', '9']\n",
    "fig, ax = plt.subplots(1,1,figsize=(8,6))\n",
    "ax.matshow(confusion_matrix, aspect='auto', vmin=0, vmax=1000, cmap=plt.get_cmap('Blues'))\n",
    "plt.ylabel('Actual Category')\n",
    "plt.yticks(range(10), cifar_labels)\n",
    "plt.xlabel('Predicted Category')\n",
    "plt.xticks(range(10), cifar_labels)\n",
    "plt.show()"
   ]
  },
  {
   "cell_type": "code",
   "execution_count": null,
   "id": "c3d243c9",
   "metadata": {},
   "outputs": [],
   "source": []
  }
 ],
 "metadata": {
  "kernelspec": {
   "display_name": "Python 3 (ipykernel)",
   "language": "python",
   "name": "python3"
  },
  "language_info": {
   "codemirror_mode": {
    "name": "ipython",
    "version": 3
   },
   "file_extension": ".py",
   "mimetype": "text/x-python",
   "name": "python",
   "nbconvert_exporter": "python",
   "pygments_lexer": "ipython3",
   "version": "3.11.7"
  }
 },
 "nbformat": 4,
 "nbformat_minor": 5
}
